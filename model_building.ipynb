{
  "nbformat": 4,
  "nbformat_minor": 0,
  "metadata": {
    "colab": {
      "provenance": []
    },
    "kernelspec": {
      "name": "python3",
      "display_name": "Python 3"
    },
    "language_info": {
      "name": "python"
    }
  },
  "cells": [
    {
      "cell_type": "code",
      "execution_count": 6,
      "metadata": {
        "colab": {
          "base_uri": "https://localhost:8080/"
        },
        "id": "nsDnrhqJr6OT",
        "outputId": "ccf7af5e-b9b3-4b2b-ff4f-57b28eb3d5eb"
      },
      "outputs": [
        {
          "output_type": "stream",
          "name": "stdout",
          "text": [
            "Drive already mounted at /content/drive; to attempt to forcibly remount, call drive.mount(\"/content/drive\", force_remount=True).\n",
            "Reading images from folder: Cataract_median_equalized\n",
            "Processing folder: /content/drive/My Drive/Ocular Dataset/Cataract_median_equalized\n",
            "Reading images from folder: diabetic_retinopathy_median_equalized\n",
            "Processing folder: /content/drive/My Drive/Ocular Dataset/diabetic_retinopathy_median_equalized\n",
            "Reading images from folder: normal_median_equalized\n",
            "Processing folder: /content/drive/My Drive/Ocular Dataset/normal_median_equalized\n",
            "Reading images from folder: glaucoma_median_equalized\n",
            "Processing folder: /content/drive/My Drive/Ocular Dataset/glaucoma_median_equalized\n",
            "Folder 'Cataract_median_equalized' contains 207 images.\n",
            "Folder 'diabetic_retinopathy_median_equalized' contains 219 images.\n",
            "Folder 'normal_median_equalized' contains 214 images.\n",
            "Folder 'glaucoma_median_equalized' contains 201 images.\n"
          ]
        }
      ],
      "source": [
        "import os\n",
        "import cv2\n",
        "from google.colab import drive\n",
        "\n",
        "# Mount Google Drive\n",
        "drive.mount('/content/drive')\n",
        "\n",
        "# Define the base directory where your folders are stored\n",
        "base_dir = '/content/drive/My Drive/Ocular Dataset'\n",
        "\n",
        "# List of folder names to read images from\n",
        "folders = [\n",
        "    \"Cataract_median_equalized\",\n",
        "    \"diabetic_retinopathy_median_equalized\",\n",
        "    \"normal_median_equalized\",\n",
        "    \"glaucoma_median_equalized\"\n",
        "]\n",
        "\n",
        "# Dictionary to store images from each folder\n",
        "images_by_folder = {}\n",
        "\n",
        "# Function to read images from a specified folder and store in the dictionary\n",
        "def read_images(folder_name):\n",
        "    \"\"\"\n",
        "    Reads images from a folder in Google Drive and stores them in a dictionary.\n",
        "    \"\"\"\n",
        "    # Path to the specific folder\n",
        "    folder_path = os.path.join(base_dir, folder_name)\n",
        "\n",
        "    # Check if the folder exists\n",
        "    if not os.path.exists(folder_path):\n",
        "        print(f\"Error: Folder not found: {folder_path}\")\n",
        "        return\n",
        "\n",
        "    print(f\"Processing folder: {folder_path}\")\n",
        "\n",
        "    # Get all image file names in the folder\n",
        "    image_files = [f for f in os.listdir(folder_path) if f.lower().endswith(('.png', '.jpg', '.jpeg'))]\n",
        "\n",
        "    # List to store images from this folder\n",
        "    images = []\n",
        "\n",
        "    # Read and store each image in the list\n",
        "    for image_file in image_files:\n",
        "        # Read the image in color\n",
        "        img_path = os.path.join(folder_path, image_file)\n",
        "        image = cv2.imread(img_path, cv2.IMREAD_COLOR)\n",
        "\n",
        "        if image is not None:\n",
        "            images.append(image)\n",
        "        else:\n",
        "            print(f\"Could not read the image: {image_file}\")\n",
        "\n",
        "    # Store the list of images in the dictionary with the folder name as the key\n",
        "    images_by_folder[folder_name] = images\n",
        "\n",
        "# Loop through each folder and read the images\n",
        "for folder in folders:\n",
        "    print(f\"Reading images from folder: {folder}\")\n",
        "    read_images(folder)\n",
        "\n",
        "# Summary of images loaded\n",
        "for folder_name, images in images_by_folder.items():\n",
        "    print(f\"Folder '{folder_name}' contains {len(images)} images.\")\n"
      ]
    },
    {
      "cell_type": "code",
      "source": [
        "!pip install scikit-image"
      ],
      "metadata": {
        "colab": {
          "base_uri": "https://localhost:8080/"
        },
        "id": "P3R0EHdpsCer",
        "outputId": "b91b82d9-de08-4404-d776-aca48ab11488"
      },
      "execution_count": 7,
      "outputs": [
        {
          "output_type": "stream",
          "name": "stdout",
          "text": [
            "Requirement already satisfied: scikit-image in /usr/local/lib/python3.10/dist-packages (0.24.0)\n",
            "Requirement already satisfied: numpy>=1.23 in /usr/local/lib/python3.10/dist-packages (from scikit-image) (1.26.4)\n",
            "Requirement already satisfied: scipy>=1.9 in /usr/local/lib/python3.10/dist-packages (from scikit-image) (1.13.1)\n",
            "Requirement already satisfied: networkx>=2.8 in /usr/local/lib/python3.10/dist-packages (from scikit-image) (3.4.2)\n",
            "Requirement already satisfied: pillow>=9.1 in /usr/local/lib/python3.10/dist-packages (from scikit-image) (11.0.0)\n",
            "Requirement already satisfied: imageio>=2.33 in /usr/local/lib/python3.10/dist-packages (from scikit-image) (2.36.0)\n",
            "Requirement already satisfied: tifffile>=2022.8.12 in /usr/local/lib/python3.10/dist-packages (from scikit-image) (2024.9.20)\n",
            "Requirement already satisfied: packaging>=21 in /usr/local/lib/python3.10/dist-packages (from scikit-image) (24.2)\n",
            "Requirement already satisfied: lazy-loader>=0.4 in /usr/local/lib/python3.10/dist-packages (from scikit-image) (0.4)\n"
          ]
        }
      ]
    },
    {
      "cell_type": "code",
      "source": [
        "import os\n",
        "import cv2\n",
        "import numpy as np\n",
        "from skimage.feature import hog\n",
        "from skimage import exposure\n",
        "\n",
        "# Base directory where subfolders are located\n",
        "base_dir = '/content/drive/My Drive/Ocular Dataset'\n",
        "\n",
        "\n",
        "# List of specific subfolders to process\n",
        "specific_subfolders = [ \"Cataract_median_equalized\",\n",
        "    \"diabetic_retinopathy_median_equalized\",\n",
        "    \"normal_median_equalized\",\n",
        "    \"glaucoma_median_equalized\"]\n",
        "\n",
        "# Filter subfolders to process only specific ones\n",
        "subfolders = [f for f in specific_subfolders if os.path.isdir(os.path.join(base_dir, f))]\n",
        "\n",
        "# Dictionary to store features for specific subfolders\n",
        "features_by_folder = {}\n",
        "\n",
        "# Function to extract HOG features from a grayscale image\n",
        "def extract_hog_features(image):\n",
        "    # Extract HOG features and a visualization image\n",
        "    hog_features, hog_image = hog(image, visualize=True, pixels_per_cell=(16, 16), cells_per_block=(1, 1), feature_vector=True)\n",
        "\n",
        "    # Rescale the HOG image for visualization (optional)\n",
        "    hog_image_rescaled = exposure.rescale_intensity(hog_image, in_range=(0, 10))\n",
        "\n",
        "    return hog_features, hog_image_rescaled\n",
        "\n",
        "# Function to read images from a folder and extract HOG features\n",
        "def read_and_extract_features(folder_path):\n",
        "    # List all image files in the folder\n",
        "    image_files = [f for f in os.listdir(folder_path) if f.lower().endswith(('.png', '.jpg', '.jpeg'))]\n",
        "\n",
        "    # Store HOG features from this folder\n",
        "    hog_features_list = []\n",
        "\n",
        "    # Loop through each image and extract HOG features\n",
        "    for image_file in image_files:\n",
        "        img_path = os.path.join(folder_path, image_file)\n",
        "        image = cv2.imread(img_path, cv2.IMREAD_GRAYSCALE)\n",
        "\n",
        "        if image is not None:\n",
        "            # Extract HOG features\n",
        "            hog_features, _ = extract_hog_features(image)\n",
        "\n",
        "            # Append the HOG features to the list\n",
        "            hog_features_list.append(hog_features)\n",
        "\n",
        "    return hog_features_list\n",
        "\n",
        "# Loop through each subfolder to extract HOG features\n",
        "for subfolder in subfolders:\n",
        "    print(f\"Processing subfolder: {subfolder}\")\n",
        "    folder_path = os.path.join(base_dir, subfolder)\n",
        "\n",
        "    # Extract features from the current subfolder\n",
        "    features = read_and_extract_features(folder_path)\n",
        "\n",
        "    # Store the extracted features in the dictionary\n",
        "    features_by_folder[subfolder] = features\n",
        "\n",
        "    # Provide feedback on the number of images processed\n",
        "    print(f\"Extracted HOG features from {len(features)} images in '{subfolder}'\")\n"
      ],
      "metadata": {
        "colab": {
          "base_uri": "https://localhost:8080/"
        },
        "id": "UOVHu7qRt0J9",
        "outputId": "5a1e1f4d-5b30-4bfa-d1d3-413efd433bb0"
      },
      "execution_count": 8,
      "outputs": [
        {
          "output_type": "stream",
          "name": "stdout",
          "text": [
            "Processing subfolder: Cataract_median_equalized\n",
            "Extracted HOG features from 207 images in 'Cataract_median_equalized'\n",
            "Processing subfolder: diabetic_retinopathy_median_equalized\n",
            "Extracted HOG features from 219 images in 'diabetic_retinopathy_median_equalized'\n",
            "Processing subfolder: normal_median_equalized\n",
            "Extracted HOG features from 214 images in 'normal_median_equalized'\n",
            "Processing subfolder: glaucoma_median_equalized\n",
            "Extracted HOG features from 201 images in 'glaucoma_median_equalized'\n"
          ]
        }
      ]
    },
    {
      "cell_type": "code",
      "source": [
        "import os\n",
        "import cv2\n",
        "import numpy as np\n",
        "from skimage.feature import hog\n",
        "from skimage import exposure\n",
        "\n",
        "# Base directory where subfolders are located\n",
        "base_dir =  '/content/drive/My Drive/Ocular Dataset'\n",
        "\n",
        "# List of specific subfolders to process\n",
        "specific_subfolders = [ \"Cataract_median_equalized\",\n",
        "    \"diabetic_retinopathy_median_equalized\",\n",
        "    \"normal_median_equalized\",\n",
        "    \"glaucoma_median_equalized\"]\n",
        "\n",
        "# Filter subfolders to process only specific ones\n",
        "subfolders = [f for f in specific_subfolders if os.path.isdir(os.path.join(base_dir, f))]\n",
        "\n",
        "# Dictionary to store features for specific subfolders\n",
        "features_by_folder = {}\n",
        "\n",
        "# Function to extract HOG features from a grayscale image\n",
        "def extract_hog_features(image):\n",
        "    # Extract HOG features and a visualization image\n",
        "    hog_features, hog_image = hog(image, visualize=True, pixels_per_cell=(16, 16), cells_per_block=(1, 1), feature_vector=True)\n",
        "\n",
        "    # Rescale the HOG image for visualization (optional)\n",
        "    hog_image_rescaled = exposure.rescale_intensity(hog_image, in_range=(0, 10))\n",
        "\n",
        "    return hog_features, hog_image_rescaled\n",
        "\n",
        "# Function to read images from a folder and extract HOG features\n",
        "def read_and_extract_features(folder_path):\n",
        "    # List all image files in the folder\n",
        "    image_files = [f for f in os.listdir(folder_path) if f.lower().endswith(('.png', '.jpg', '.jpeg'))]\n",
        "\n",
        "    # Store HOG features from this folder\n",
        "    hog_features_list = []\n",
        "\n",
        "    # Loop through each image and extract HOG features\n",
        "    for image_file in image_files:\n",
        "        img_path = os.path.join(folder_path, image_file)\n",
        "        image = cv2.imread(img_path, cv2.IMREAD_GRAYSCALE)\n",
        "\n",
        "        if image is not None:\n",
        "            # Extract HOG features\n",
        "            hog_features, _ = extract_hog_features(image)\n",
        "\n",
        "            # Append the HOG features to the list\n",
        "            hog_features_list.append(hog_features)\n",
        "\n",
        "    return hog_features_list\n",
        "\n",
        "# Loop through each subfolder to extract HOG features\n",
        "for subfolder in subfolders:\n",
        "    print(f\"Processing subfolder: {subfolder}\")\n",
        "    folder_path = os.path.join(base_dir, subfolder)\n",
        "\n",
        "    # Extract features from the current subfolder\n",
        "    features = read_and_extract_features(folder_path)\n",
        "\n",
        "    # Store the extracted features in the dictionary\n",
        "    features_by_folder[subfolder] = features\n",
        "\n",
        "    # Provide feedback on the number of images processed\n",
        "    print(f\"Extracted HOG features from {len(features)} images in '{subfolder}'\")\n"
      ],
      "metadata": {
        "colab": {
          "base_uri": "https://localhost:8080/"
        },
        "id": "5Uyzy1wst7fZ",
        "outputId": "52375685-af36-49b2-c6a9-47f93b192424"
      },
      "execution_count": 9,
      "outputs": [
        {
          "output_type": "stream",
          "name": "stdout",
          "text": [
            "Processing subfolder: Cataract_median_equalized\n",
            "Extracted HOG features from 207 images in 'Cataract_median_equalized'\n",
            "Processing subfolder: diabetic_retinopathy_median_equalized\n",
            "Extracted HOG features from 219 images in 'diabetic_retinopathy_median_equalized'\n",
            "Processing subfolder: normal_median_equalized\n",
            "Extracted HOG features from 214 images in 'normal_median_equalized'\n",
            "Processing subfolder: glaucoma_median_equalized\n",
            "Extracted HOG features from 201 images in 'glaucoma_median_equalized'\n"
          ]
        }
      ]
    },
    {
      "cell_type": "code",
      "source": [
        "import os\n",
        "import cv2\n",
        "import numpy as np\n",
        "\n",
        "# Base directory where subfolders are located\n",
        "base_dir = '/content/drive/My Drive/Ocular Dataset'\n",
        "\n",
        "# List of specific subfolders to process\n",
        "specific_subfolders = [ \"Cataract_median_equalized\",\n",
        "    \"diabetic_retinopathy_median_equalized\",\n",
        "    \"normal_median_equalized\",\n",
        "    \"glaucoma_median_equalized\"]\n",
        "# Dictionary to store segmented images for each subfolder\n",
        "segmented_by_folder = {}\n",
        "\n",
        "# Function to apply Otsu's Thresholding for segmentation\n",
        "def otsu_threshold_segmentation(image):\n",
        "    # Apply Gaussian Blur to reduce noise\n",
        "    blurred_image = cv2.GaussianBlur(image, (5, 5), 0)\n",
        "\n",
        "    # Apply Otsu's Thresholding to segment the image\n",
        "    _, segmented_image = cv2.threshold(\n",
        "        blurred_image, 0, 255, cv2.THRESH_BINARY + cv2.THRESH_OTSU\n",
        "    )\n",
        "\n",
        "    return segmented_image\n",
        "\n",
        "# Function to read images from a folder and apply segmentation\n",
        "def read_and_segment_images(folder_path):\n",
        "    # List all image files in the folder\n",
        "    image_files = [f for f in os.listdir(folder_path) if f.lower().endswith(('.png', '.jpg', '.jpeg'))]\n",
        "\n",
        "    # List to store segmented images\n",
        "    segmented_images = []\n",
        "\n",
        "    # Loop through each image and apply segmentation\n",
        "    for image_file in image_files:\n",
        "        img_path = os.path.join(folder_path, image_file)\n",
        "        image = cv2.imread(img_path, cv2.IMREAD_GRAYSCALE)\n",
        "\n",
        "        if image is not None:\n",
        "            # Apply Otsu's Thresholding for segmentation\n",
        "            segmented_image = otsu_threshold_segmentation(image)\n",
        "\n",
        "            # Store the segmented image in the list\n",
        "            segmented_images.append({\n",
        "                'original_image': image,\n",
        "                'segmented_image': segmented_image,\n",
        "            })\n",
        "\n",
        "    return segmented_images\n",
        "\n",
        "# Loop through each specified subfolder to extract and store segmented images\n",
        "for subfolder in specific_subfolders:\n",
        "    print(f\"Processing segmentation for subfolder: {subfolder}\")\n",
        "    folder_path = os.path.join(base_dir, subfolder)\n",
        "\n",
        "    # Apply segmentation and store in memory\n",
        "    segmented_images = read_and_segment_images(folder_path)\n",
        "\n",
        "    # Store the segmented images in a dictionary\n",
        "    segmented_by_folder[subfolder] = segmented_images\n",
        "\n",
        "    # Provide feedback on the number of segmented images\n",
        "    print(f\"Segmented {len(segmented_images)} images in '{subfolder}'\")\n",
        "\n",
        "# Now `segmented_by_folder` contains all segmented images in memory, which can be used for further processing.\n"
      ],
      "metadata": {
        "colab": {
          "base_uri": "https://localhost:8080/"
        },
        "id": "wflT3zQoupC2",
        "outputId": "a27bc454-6062-43cc-d597-18f3024ac605"
      },
      "execution_count": 11,
      "outputs": [
        {
          "output_type": "stream",
          "name": "stdout",
          "text": [
            "Processing segmentation for subfolder: Cataract_median_equalized\n",
            "Segmented 207 images in 'Cataract_median_equalized'\n",
            "Processing segmentation for subfolder: diabetic_retinopathy_median_equalized\n",
            "Segmented 219 images in 'diabetic_retinopathy_median_equalized'\n",
            "Processing segmentation for subfolder: normal_median_equalized\n",
            "Segmented 214 images in 'normal_median_equalized'\n",
            "Processing segmentation for subfolder: glaucoma_median_equalized\n",
            "Segmented 201 images in 'glaucoma_median_equalized'\n"
          ]
        }
      ]
    },
    {
      "cell_type": "code",
      "source": [
        "!pip install tensorflow"
      ],
      "metadata": {
        "colab": {
          "base_uri": "https://localhost:8080/"
        },
        "id": "ZU3PLlAWxTO7",
        "outputId": "996d9829-24eb-4ceb-bcae-060ccd5349b3"
      },
      "execution_count": 12,
      "outputs": [
        {
          "output_type": "stream",
          "name": "stdout",
          "text": [
            "Requirement already satisfied: tensorflow in /usr/local/lib/python3.10/dist-packages (2.17.1)\n",
            "Requirement already satisfied: absl-py>=1.0.0 in /usr/local/lib/python3.10/dist-packages (from tensorflow) (1.4.0)\n",
            "Requirement already satisfied: astunparse>=1.6.0 in /usr/local/lib/python3.10/dist-packages (from tensorflow) (1.6.3)\n",
            "Requirement already satisfied: flatbuffers>=24.3.25 in /usr/local/lib/python3.10/dist-packages (from tensorflow) (24.3.25)\n",
            "Requirement already satisfied: gast!=0.5.0,!=0.5.1,!=0.5.2,>=0.2.1 in /usr/local/lib/python3.10/dist-packages (from tensorflow) (0.6.0)\n",
            "Requirement already satisfied: google-pasta>=0.1.1 in /usr/local/lib/python3.10/dist-packages (from tensorflow) (0.2.0)\n",
            "Requirement already satisfied: h5py>=3.10.0 in /usr/local/lib/python3.10/dist-packages (from tensorflow) (3.12.1)\n",
            "Requirement already satisfied: libclang>=13.0.0 in /usr/local/lib/python3.10/dist-packages (from tensorflow) (18.1.1)\n",
            "Requirement already satisfied: ml-dtypes<0.5.0,>=0.3.1 in /usr/local/lib/python3.10/dist-packages (from tensorflow) (0.4.1)\n",
            "Requirement already satisfied: opt-einsum>=2.3.2 in /usr/local/lib/python3.10/dist-packages (from tensorflow) (3.4.0)\n",
            "Requirement already satisfied: packaging in /usr/local/lib/python3.10/dist-packages (from tensorflow) (24.2)\n",
            "Requirement already satisfied: protobuf!=4.21.0,!=4.21.1,!=4.21.2,!=4.21.3,!=4.21.4,!=4.21.5,<5.0.0dev,>=3.20.3 in /usr/local/lib/python3.10/dist-packages (from tensorflow) (4.25.5)\n",
            "Requirement already satisfied: requests<3,>=2.21.0 in /usr/local/lib/python3.10/dist-packages (from tensorflow) (2.32.3)\n",
            "Requirement already satisfied: setuptools in /usr/local/lib/python3.10/dist-packages (from tensorflow) (75.1.0)\n",
            "Requirement already satisfied: six>=1.12.0 in /usr/local/lib/python3.10/dist-packages (from tensorflow) (1.16.0)\n",
            "Requirement already satisfied: termcolor>=1.1.0 in /usr/local/lib/python3.10/dist-packages (from tensorflow) (2.5.0)\n",
            "Requirement already satisfied: typing-extensions>=3.6.6 in /usr/local/lib/python3.10/dist-packages (from tensorflow) (4.12.2)\n",
            "Requirement already satisfied: wrapt>=1.11.0 in /usr/local/lib/python3.10/dist-packages (from tensorflow) (1.16.0)\n",
            "Requirement already satisfied: grpcio<2.0,>=1.24.3 in /usr/local/lib/python3.10/dist-packages (from tensorflow) (1.67.1)\n",
            "Requirement already satisfied: tensorboard<2.18,>=2.17 in /usr/local/lib/python3.10/dist-packages (from tensorflow) (2.17.1)\n",
            "Requirement already satisfied: keras>=3.2.0 in /usr/local/lib/python3.10/dist-packages (from tensorflow) (3.5.0)\n",
            "Requirement already satisfied: tensorflow-io-gcs-filesystem>=0.23.1 in /usr/local/lib/python3.10/dist-packages (from tensorflow) (0.37.1)\n",
            "Requirement already satisfied: numpy<2.0.0,>=1.23.5 in /usr/local/lib/python3.10/dist-packages (from tensorflow) (1.26.4)\n",
            "Requirement already satisfied: wheel<1.0,>=0.23.0 in /usr/local/lib/python3.10/dist-packages (from astunparse>=1.6.0->tensorflow) (0.45.0)\n",
            "Requirement already satisfied: rich in /usr/local/lib/python3.10/dist-packages (from keras>=3.2.0->tensorflow) (13.9.4)\n",
            "Requirement already satisfied: namex in /usr/local/lib/python3.10/dist-packages (from keras>=3.2.0->tensorflow) (0.0.8)\n",
            "Requirement already satisfied: optree in /usr/local/lib/python3.10/dist-packages (from keras>=3.2.0->tensorflow) (0.13.1)\n",
            "Requirement already satisfied: charset-normalizer<4,>=2 in /usr/local/lib/python3.10/dist-packages (from requests<3,>=2.21.0->tensorflow) (3.4.0)\n",
            "Requirement already satisfied: idna<4,>=2.5 in /usr/local/lib/python3.10/dist-packages (from requests<3,>=2.21.0->tensorflow) (3.10)\n",
            "Requirement already satisfied: urllib3<3,>=1.21.1 in /usr/local/lib/python3.10/dist-packages (from requests<3,>=2.21.0->tensorflow) (2.2.3)\n",
            "Requirement already satisfied: certifi>=2017.4.17 in /usr/local/lib/python3.10/dist-packages (from requests<3,>=2.21.0->tensorflow) (2024.8.30)\n",
            "Requirement already satisfied: markdown>=2.6.8 in /usr/local/lib/python3.10/dist-packages (from tensorboard<2.18,>=2.17->tensorflow) (3.7)\n",
            "Requirement already satisfied: tensorboard-data-server<0.8.0,>=0.7.0 in /usr/local/lib/python3.10/dist-packages (from tensorboard<2.18,>=2.17->tensorflow) (0.7.2)\n",
            "Requirement already satisfied: werkzeug>=1.0.1 in /usr/local/lib/python3.10/dist-packages (from tensorboard<2.18,>=2.17->tensorflow) (3.1.3)\n",
            "Requirement already satisfied: MarkupSafe>=2.1.1 in /usr/local/lib/python3.10/dist-packages (from werkzeug>=1.0.1->tensorboard<2.18,>=2.17->tensorflow) (3.0.2)\n",
            "Requirement already satisfied: markdown-it-py>=2.2.0 in /usr/local/lib/python3.10/dist-packages (from rich->keras>=3.2.0->tensorflow) (3.0.0)\n",
            "Requirement already satisfied: pygments<3.0.0,>=2.13.0 in /usr/local/lib/python3.10/dist-packages (from rich->keras>=3.2.0->tensorflow) (2.18.0)\n",
            "Requirement already satisfied: mdurl~=0.1 in /usr/local/lib/python3.10/dist-packages (from markdown-it-py>=2.2.0->rich->keras>=3.2.0->tensorflow) (0.1.2)\n"
          ]
        }
      ]
    },
    {
      "cell_type": "code",
      "source": [
        "import os\n",
        "import shutil  # This will help to copy files and folders\n",
        "import tensorflow as tf\n",
        "from tensorflow import keras\n",
        "from tensorflow.keras import layers, models\n",
        "from tensorflow.keras.preprocessing.image import ImageDataGenerator\n",
        "\n",
        "# Base directory for the dataset\n",
        "base_dir = '/content/drive/My Drive/Ocular Dataset'\n",
        "\n",
        "\n",
        "# List of specific subfolders to process\n",
        "target_subfolders = [ \"Cataract_median_equalized\",\n",
        "    \"diabetic_retinopathy_median_equalized\",\n",
        "    \"normal_median_equalized\",\n",
        "    \"glaucoma_median_equalized\"]\n",
        "\n",
        "# Create a new temporary base directory\n",
        "temp_base_dir = '/content/drive/My Drive/Ocular Dataset/temp'\n",
        "\n",
        "# Ensure the temporary base directory is empty and exists\n",
        "if os.path.exists(temp_base_dir):\n",
        "    shutil.rmtree(temp_base_dir)  # Clear if exists\n",
        "os.makedirs(temp_base_dir, exist_ok=True)  # Create a fresh folder\n",
        "\n",
        "# Copy the specified subfolders to the temporary base directory\n",
        "for subfolder in target_subfolders:\n",
        "    src_path = os.path.join(base_dir, subfolder)\n",
        "    dest_path = os.path.join(temp_base_dir, subfolder)\n",
        "\n",
        "    # Copy the entire subfolder if it exists\n",
        "    if os.path.isdir(src_path):\n",
        "        shutil.copytree(src_path, dest_path)\n",
        "\n",
        "# Prepare the data generator for data augmentation\n",
        "datagen = ImageDataGenerator(rescale=1./255, validation_split=0.2)\n",
        "\n",
        "# Training dataset from specified subfolders\n",
        "train_generator = datagen.flow_from_directory(\n",
        "    temp_base_dir,\n",
        "    target_size=(128, 128),\n",
        "    batch_size=32,\n",
        "    class_mode='categorical',\n",
        "    subset='training'\n",
        ")\n",
        "\n",
        "# Validation dataset from specified subfolders\n",
        "val_generator = datagen.flow_from_directory(\n",
        "    temp_base_dir,\n",
        "    target_size=(128, 128),\n",
        "    batch_size=32,\n",
        "    class_mode='categorical',\n",
        "    subset='validation'\n",
        ")\n",
        "\n",
        "# Define a simple CNN model\n",
        "cnn_model = models.Sequential([\n",
        "    layers.Conv2D(32, (3, 3), activation='relu', input_shape=(128, 128, 3)),\n",
        "    layers.MaxPooling2D((2, 2)),\n",
        "    layers.Conv2D(64, (3, 3), activation='relu'),\n",
        "    layers.MaxPooling2D((2, 2)),\n",
        "    layers.Conv2D(128, (3, 3), activation='relu'),\n",
        "    layers.MaxPooling2D((2, 2)),\n",
        "    layers.Flatten(),\n",
        "    layers.Dense(256, activation='relu'),\n",
        "    layers.Dropout(0.5),\n",
        "    layers.Dense(train_generator.num_classes, activation='softmax')  # Output layer for categorical classification\n",
        "])\n",
        "\n",
        "# Compile the model\n",
        "cnn_model.compile(optimizer='adam', loss='categorical_crossentropy', metrics=['accuracy'])\n",
        "\n",
        "# Train the model\n",
        "cnn_model.fit(\n",
        "    train_generator,\n",
        "    epochs=10,\n",
        "    validation_data=val_generator\n",
        ")\n",
        "\n",
        "# Evaluate the model\n",
        "loss, accuracy = cnn_model.evaluate(val_generator)\n",
        "print(f\"Validation accuracy: {accuracy:.2f}\")\n"
      ],
      "metadata": {
        "colab": {
          "base_uri": "https://localhost:8080/"
        },
        "id": "S05TBeEYxnzT",
        "outputId": "7e31e078-9594-4694-cebf-1f6dbc3a76b5"
      },
      "execution_count": 13,
      "outputs": [
        {
          "output_type": "stream",
          "name": "stdout",
          "text": [
            "Found 675 images belonging to 4 classes.\n",
            "Found 166 images belonging to 4 classes.\n"
          ]
        },
        {
          "output_type": "stream",
          "name": "stderr",
          "text": [
            "/usr/local/lib/python3.10/dist-packages/keras/src/layers/convolutional/base_conv.py:107: UserWarning: Do not pass an `input_shape`/`input_dim` argument to a layer. When using Sequential models, prefer using an `Input(shape)` object as the first layer in the model instead.\n",
            "  super().__init__(activity_regularizer=activity_regularizer, **kwargs)\n"
          ]
        },
        {
          "output_type": "stream",
          "name": "stdout",
          "text": [
            "Epoch 1/10\n"
          ]
        },
        {
          "output_type": "stream",
          "name": "stderr",
          "text": [
            "/usr/local/lib/python3.10/dist-packages/keras/src/trainers/data_adapters/py_dataset_adapter.py:122: UserWarning: Your `PyDataset` class should call `super().__init__(**kwargs)` in its constructor. `**kwargs` can include `workers`, `use_multiprocessing`, `max_queue_size`. Do not pass these arguments to `fit()`, as they will be ignored.\n",
            "  self._warn_if_super_not_called()\n"
          ]
        },
        {
          "output_type": "stream",
          "name": "stdout",
          "text": [
            "\u001b[1m22/22\u001b[0m \u001b[32m━━━━━━━━━━━━━━━━━━━━\u001b[0m\u001b[37m\u001b[0m \u001b[1m34s\u001b[0m 1s/step - accuracy: 0.3124 - loss: 1.4269 - val_accuracy: 0.3675 - val_loss: 1.2476\n",
            "Epoch 2/10\n",
            "\u001b[1m22/22\u001b[0m \u001b[32m━━━━━━━━━━━━━━━━━━━━\u001b[0m\u001b[37m\u001b[0m \u001b[1m45s\u001b[0m 2s/step - accuracy: 0.4778 - loss: 1.0952 - val_accuracy: 0.5301 - val_loss: 1.1112\n",
            "Epoch 3/10\n",
            "\u001b[1m22/22\u001b[0m \u001b[32m━━━━━━━━━━━━━━━━━━━━\u001b[0m\u001b[37m\u001b[0m \u001b[1m30s\u001b[0m 1s/step - accuracy: 0.5620 - loss: 0.9294 - val_accuracy: 0.6386 - val_loss: 0.9262\n",
            "Epoch 4/10\n",
            "\u001b[1m22/22\u001b[0m \u001b[32m━━━━━━━━━━━━━━━━━━━━\u001b[0m\u001b[37m\u001b[0m \u001b[1m30s\u001b[0m 1s/step - accuracy: 0.6680 - loss: 0.7732 - val_accuracy: 0.5602 - val_loss: 0.9490\n",
            "Epoch 5/10\n",
            "\u001b[1m22/22\u001b[0m \u001b[32m━━━━━━━━━━━━━━━━━━━━\u001b[0m\u001b[37m\u001b[0m \u001b[1m30s\u001b[0m 1s/step - accuracy: 0.6869 - loss: 0.7343 - val_accuracy: 0.5964 - val_loss: 0.9106\n",
            "Epoch 6/10\n",
            "\u001b[1m22/22\u001b[0m \u001b[32m━━━━━━━━━━━━━━━━━━━━\u001b[0m\u001b[37m\u001b[0m \u001b[1m31s\u001b[0m 1s/step - accuracy: 0.6769 - loss: 0.7114 - val_accuracy: 0.6566 - val_loss: 0.7894\n",
            "Epoch 7/10\n",
            "\u001b[1m22/22\u001b[0m \u001b[32m━━━━━━━━━━━━━━━━━━━━\u001b[0m\u001b[37m\u001b[0m \u001b[1m38s\u001b[0m 1s/step - accuracy: 0.6952 - loss: 0.6874 - val_accuracy: 0.6386 - val_loss: 0.8136\n",
            "Epoch 8/10\n",
            "\u001b[1m22/22\u001b[0m \u001b[32m━━━━━━━━━━━━━━━━━━━━\u001b[0m\u001b[37m\u001b[0m \u001b[1m41s\u001b[0m 1s/step - accuracy: 0.7183 - loss: 0.6026 - val_accuracy: 0.6566 - val_loss: 0.8839\n",
            "Epoch 9/10\n",
            "\u001b[1m22/22\u001b[0m \u001b[32m━━━━━━━━━━━━━━━━━━━━\u001b[0m\u001b[37m\u001b[0m \u001b[1m29s\u001b[0m 1s/step - accuracy: 0.7702 - loss: 0.5214 - val_accuracy: 0.6807 - val_loss: 0.8042\n",
            "Epoch 10/10\n",
            "\u001b[1m22/22\u001b[0m \u001b[32m━━━━━━━━━━━━━━━━━━━━\u001b[0m\u001b[37m\u001b[0m \u001b[1m42s\u001b[0m 1s/step - accuracy: 0.8241 - loss: 0.4268 - val_accuracy: 0.6747 - val_loss: 0.7656\n",
            "\u001b[1m6/6\u001b[0m \u001b[32m━━━━━━━━━━━━━━━━━━━━\u001b[0m\u001b[37m\u001b[0m \u001b[1m2s\u001b[0m 290ms/step - accuracy: 0.6702 - loss: 0.8280\n",
            "Validation accuracy: 0.67\n"
          ]
        }
      ]
    },
    {
      "cell_type": "code",
      "source": [
        "import tensorflow as tf\n",
        "from tensorflow import keras\n",
        "from tensorflow.keras import layers, models\n",
        "from tensorflow.keras.preprocessing.image import ImageDataGenerator\n",
        "import os\n",
        "\n",
        "# Temporary base directory for the dataset\n",
        "temp_base_dir = '/content/drive/My Drive/Ocular Dataset/temp'\n",
        "# Prepare the data generator for data augmentation\n",
        "datagen = ImageDataGenerator(rescale=1./255, validation_split=0.2)\n",
        "\n",
        "# Training dataset from specified subfolders\n",
        "train_generator = datagen.flow_from_directory(\n",
        "    temp_base_dir,\n",
        "    target_size=(227, 227),  # AlexNet uses 227x227 images\n",
        "    batch_size=32,\n",
        "    class_mode='categorical',\n",
        "    subset='training'\n",
        ")\n",
        "\n",
        "# Validation dataset from specified subfolders\n",
        "val_generator = datagen.flow_from_directory(\n",
        "    temp_base_dir,\n",
        "    target_size=(227, 227),\n",
        "    batch_size=32,\n",
        "    class_mode='categorical',\n",
        "    subset='validation'\n",
        ")\n",
        "\n",
        "# Define an AlexNet architecture\n",
        "alexnet_model = models.Sequential([\n",
        "    layers.Conv2D(96, (11, 11), strides=(4, 4), activation='relu', input_shape=(227, 227, 3)),  # Conv1\n",
        "    layers.MaxPooling2D((3, 3), strides=(2, 2)),  # Pool1\n",
        "    layers.Conv2D(256, (5, 5), padding='same', activation='relu'),  # Conv2\n",
        "    layers.MaxPooling2D((3, 3), strides=(2, 2)),  # Pool2\n",
        "    layers.Conv2D(384, (3, 3), padding='same', activation='relu'),  # Conv3\n",
        "    layers.Conv2D(384, (3, 3), padding='same', activation='relu'),  # Conv4\n",
        "    layers.Conv2D(256, (3, 3), padding='same', activation='relu'),  # Conv5\n",
        "    layers.MaxPooling2D((3, 3), strides=(2, 2)),  # Pool3\n",
        "    layers.Flatten(),  # Flattening for fully connected layers\n",
        "    layers.Dense(4096, activation='relu'),  # FC6\n",
        "    layers.Dropout(0.5),  # Dropout for regularization\n",
        "    layers.Dense(4096, activation='relu'),  # FC7\n",
        "    layers.Dropout(0.5),\n",
        "    layers.Dense(train_generator.num_classes, activation='softmax')  # Output layer for categorical classification\n",
        "])\n",
        "\n",
        "# Compile the model\n",
        "alexnet_model.compile(optimizer='adam', loss='categorical_crossentropy', metrics=['accuracy'])\n",
        "\n",
        "# Train the model\n",
        "alexnet_model.fit(\n",
        "    train_generator,\n",
        "    epochs=10,\n",
        "    validation_data=val_generator\n",
        ")\n",
        "\n",
        "# Evaluate the model\n",
        "loss, accuracy = alexnet_model.evaluate(val_generator)\n",
        "print(f\"Validation accuracy: {accuracy:.2f}\")\n"
      ],
      "metadata": {
        "colab": {
          "base_uri": "https://localhost:8080/"
        },
        "id": "AftuuCiMzAY7",
        "outputId": "d1910887-f403-4f99-9ea9-2c4e36e2f060"
      },
      "execution_count": 14,
      "outputs": [
        {
          "output_type": "stream",
          "name": "stdout",
          "text": [
            "Found 675 images belonging to 4 classes.\n",
            "Found 166 images belonging to 4 classes.\n",
            "Epoch 1/10\n",
            "\u001b[1m22/22\u001b[0m \u001b[32m━━━━━━━━━━━━━━━━━━━━\u001b[0m\u001b[37m\u001b[0m \u001b[1m144s\u001b[0m 6s/step - accuracy: 0.2536 - loss: 2.5649 - val_accuracy: 0.2470 - val_loss: 1.3867\n",
            "Epoch 2/10\n",
            "\u001b[1m22/22\u001b[0m \u001b[32m━━━━━━━━━━━━━━━━━━━━\u001b[0m\u001b[37m\u001b[0m \u001b[1m143s\u001b[0m 6s/step - accuracy: 0.2492 - loss: 1.3555 - val_accuracy: 0.2530 - val_loss: 1.4051\n",
            "Epoch 3/10\n",
            "\u001b[1m22/22\u001b[0m \u001b[32m━━━━━━━━━━━━━━━━━━━━\u001b[0m\u001b[37m\u001b[0m \u001b[1m199s\u001b[0m 6s/step - accuracy: 0.3413 - loss: 1.2863 - val_accuracy: 0.2590 - val_loss: 1.3945\n",
            "Epoch 4/10\n",
            "\u001b[1m22/22\u001b[0m \u001b[32m━━━━━━━━━━━━━━━━━━━━\u001b[0m\u001b[37m\u001b[0m \u001b[1m142s\u001b[0m 6s/step - accuracy: 0.3123 - loss: 1.2831 - val_accuracy: 0.2651 - val_loss: 1.3914\n",
            "Epoch 5/10\n",
            "\u001b[1m22/22\u001b[0m \u001b[32m━━━━━━━━━━━━━━━━━━━━\u001b[0m\u001b[37m\u001b[0m \u001b[1m140s\u001b[0m 6s/step - accuracy: 0.3396 - loss: 1.2637 - val_accuracy: 0.2771 - val_loss: 1.3835\n",
            "Epoch 6/10\n",
            "\u001b[1m22/22\u001b[0m \u001b[32m━━━━━━━━━━━━━━━━━━━━\u001b[0m\u001b[37m\u001b[0m \u001b[1m141s\u001b[0m 6s/step - accuracy: 0.2827 - loss: 1.3161 - val_accuracy: 0.2771 - val_loss: 1.3610\n",
            "Epoch 7/10\n",
            "\u001b[1m22/22\u001b[0m \u001b[32m━━━━━━━━━━━━━━━━━━━━\u001b[0m\u001b[37m\u001b[0m \u001b[1m138s\u001b[0m 6s/step - accuracy: 0.3380 - loss: 1.2657 - val_accuracy: 0.2771 - val_loss: 1.3841\n",
            "Epoch 8/10\n",
            "\u001b[1m22/22\u001b[0m \u001b[32m━━━━━━━━━━━━━━━━━━━━\u001b[0m\u001b[37m\u001b[0m \u001b[1m136s\u001b[0m 6s/step - accuracy: 0.3499 - loss: 1.2967 - val_accuracy: 0.2831 - val_loss: 1.3679\n",
            "Epoch 9/10\n",
            "\u001b[1m22/22\u001b[0m \u001b[32m━━━━━━━━━━━━━━━━━━━━\u001b[0m\u001b[37m\u001b[0m \u001b[1m142s\u001b[0m 6s/step - accuracy: 0.3729 - loss: 1.2701 - val_accuracy: 0.2771 - val_loss: 1.3150\n",
            "Epoch 10/10\n",
            "\u001b[1m22/22\u001b[0m \u001b[32m━━━━━━━━━━━━━━━━━━━━\u001b[0m\u001b[37m\u001b[0m \u001b[1m143s\u001b[0m 6s/step - accuracy: 0.3946 - loss: 1.2315 - val_accuracy: 0.4518 - val_loss: 1.1937\n",
            "\u001b[1m6/6\u001b[0m \u001b[32m━━━━━━━━━━━━━━━━━━━━\u001b[0m\u001b[37m\u001b[0m \u001b[1m8s\u001b[0m 1s/step - accuracy: 0.4661 - loss: 1.1731\n",
            "Validation accuracy: 0.45\n"
          ]
        }
      ]
    },
    {
      "cell_type": "code",
      "source": [
        "import tensorflow as tf\n",
        "from tensorflow import keras\n",
        "from tensorflow.keras import layers, models\n",
        "from tensorflow.keras.preprocessing.image import ImageDataGenerator\n",
        "import os\n",
        "\n",
        "# Temporary base directory for the dataset\n",
        "temp_base_dir = '/content/drive/My Drive/Ocular Dataset/temp'\n",
        "\n",
        "# Data generator with data augmentation and validation split\n",
        "datagen = ImageDataGenerator(rescale=1./255, validation_split=0.2)\n",
        "\n",
        "# Training dataset from specified subfolders\n",
        "train_generator = datagen.flow_from_directory(\n",
        "    temp_base_dir,\n",
        "    target_size=(224, 224),  # VGG-like networks use 224x224 images\n",
        "    batch_size=32,\n",
        "    class_mode='categorical',\n",
        "    subset='training'\n",
        ")\n",
        "\n",
        "# Validation dataset from specified subfolders\n",
        "val_generator = datagen.flow_from_directory(\n",
        "    temp_base_dir,\n",
        "    target_size=(224, 224),\n",
        "    batch_size=32,\n",
        "    class_mode='categorical',\n",
        "    subset='validation'\n",
        ")\n",
        "\n",
        "# Define a simplified VGG-like architecture\n",
        "simple_vgg = models.Sequential([\n",
        "    layers.Conv2D(32, (3, 3), padding='same', activation='relu', input_shape=(224, 224, 3)),\n",
        "    layers.MaxPooling2D((2, 2)),\n",
        "\n",
        "    layers.Conv2D(64, (3, 3), padding='same', activation='relu'),\n",
        "    layers.MaxPooling2D((2, 2)),\n",
        "\n",
        "    layers.Conv2D(128, (3, 3), padding='same', activation='relu'),\n",
        "    layers.Conv2D(128, (3, 3), padding='same', activation='relu'),\n",
        "    layers.MaxPooling2D((2, 2)),\n",
        "\n",
        "    layers.Conv2D(256, (3, 3), padding='same', activation='relu'),\n",
        "    layers.MaxPooling2D((2, 2)),\n",
        "\n",
        "    layers.Flatten(),\n",
        "    layers.Dense(1024, activation='relu'),\n",
        "    layers.Dropout(0.5),\n",
        "    layers.Dense(512, activation='relu'),\n",
        "    layers.Dropout(0.5),\n",
        "    layers.Dense(train_generator.num_classes, activation='softmax')  # Output for categorical classes\n",
        "])\n",
        "\n",
        "# Compile the model\n",
        "simple_vgg.compile(optimizer='adam', loss='categorical_crossentropy', metrics=['accuracy'])\n",
        "\n",
        "# Train the model\n",
        "simple_vgg.fit(\n",
        "    train_generator,\n",
        "    epochs=5,\n",
        "    validation_data=val_generator\n",
        ")\n",
        "\n",
        "# Evaluate the model\n",
        "loss, accuracy = simple_vgg.evaluate(val_generator)\n",
        "print(f\"Validation accuracy: {accuracy:.2f}\")\n"
      ],
      "metadata": {
        "colab": {
          "base_uri": "https://localhost:8080/"
        },
        "id": "itBwPPZl0svK",
        "outputId": "dc5f130a-94f5-4186-a3f7-026a71c55859"
      },
      "execution_count": 15,
      "outputs": [
        {
          "output_type": "stream",
          "name": "stdout",
          "text": [
            "Found 675 images belonging to 4 classes.\n",
            "Found 166 images belonging to 4 classes.\n",
            "Epoch 1/5\n",
            "\u001b[1m22/22\u001b[0m \u001b[32m━━━━━━━━━━━━━━━━━━━━\u001b[0m\u001b[37m\u001b[0m \u001b[1m186s\u001b[0m 8s/step - accuracy: 0.2880 - loss: 1.4955 - val_accuracy: 0.4096 - val_loss: 1.3427\n",
            "Epoch 2/5\n",
            "\u001b[1m22/22\u001b[0m \u001b[32m━━━━━━━━━━━━━━━━━━━━\u001b[0m\u001b[37m\u001b[0m \u001b[1m182s\u001b[0m 8s/step - accuracy: 0.4613 - loss: 1.2141 - val_accuracy: 0.4458 - val_loss: 1.1608\n",
            "Epoch 3/5\n",
            "\u001b[1m22/22\u001b[0m \u001b[32m━━━━━━━━━━━━━━━━━━━━\u001b[0m\u001b[37m\u001b[0m \u001b[1m199s\u001b[0m 8s/step - accuracy: 0.5059 - loss: 1.0732 - val_accuracy: 0.4759 - val_loss: 1.0919\n",
            "Epoch 4/5\n",
            "\u001b[1m22/22\u001b[0m \u001b[32m━━━━━━━━━━━━━━━━━━━━\u001b[0m\u001b[37m\u001b[0m \u001b[1m181s\u001b[0m 8s/step - accuracy: 0.5793 - loss: 0.8907 - val_accuracy: 0.5181 - val_loss: 1.0046\n",
            "Epoch 5/5\n",
            "\u001b[1m22/22\u001b[0m \u001b[32m━━━━━━━━━━━━━━━━━━━━\u001b[0m\u001b[37m\u001b[0m \u001b[1m180s\u001b[0m 8s/step - accuracy: 0.5645 - loss: 0.8243 - val_accuracy: 0.5181 - val_loss: 0.9513\n",
            "\u001b[1m6/6\u001b[0m \u001b[32m━━━━━━━━━━━━━━━━━━━━\u001b[0m\u001b[37m\u001b[0m \u001b[1m12s\u001b[0m 2s/step - accuracy: 0.5043 - loss: 0.9895\n",
            "Validation accuracy: 0.52\n"
          ]
        }
      ]
    },
    {
      "cell_type": "code",
      "source": [
        "import os\n",
        "from skimage.feature import hog\n",
        "from skimage.io import imread\n",
        "from skimage.transform import resize\n",
        "import numpy as np\n",
        "\n",
        "# Dictionary to store features by folder\n",
        "features_by_folder = {}\n",
        "\n",
        "# Function to read images and extract HOG features\n",
        "def read_and_extract_features(folder_path, image_size=(128, 128)):\n",
        "    features = []\n",
        "    for root, _, files in os.walk(folder_path):\n",
        "        for file in files:\n",
        "            if file.endswith(('.jpg', '.jpeg', '.png')):  # Add other extensions if needed\n",
        "                image_path = os.path.join(root, file)\n",
        "                image = imread(image_path, as_gray=True)  # Read image in grayscale\n",
        "                image_resized = resize(image, image_size)  # Resize image\n",
        "                hog_features = hog(image_resized, pixels_per_cell=(8, 8),\n",
        "                                   cells_per_block=(2, 2), block_norm='L2-Hys')  # Extract HOG\n",
        "                features.append(hog_features)\n",
        "    return features\n",
        "\n",
        "# Base directory for the dataset\n",
        "base_dir = '/content/drive/My Drive/Ocular Dataset'\n",
        "\n",
        "# Main folders with their subfolders\n",
        "main_folders = {\n",
        "    \"Cataract\": [\"Cataract_low\", \"Cataract_medium\", \"Cataract_high\"],\n",
        "    \"Diabetic Retinopathy\": [\"Diabetic Retinopathy_low\", \"Diabetic Retinopathy_medium\", \"Diabetic Retinopathy_high\"],\n",
        "    \"Normal\": [],  # No subfolders for Normal\n",
        "    \"Glaucoma\": [\"Glaucoma_low\", \"Glaucoma_medium\", \"Glaucoma_high\"],\n",
        "}\n",
        "\n",
        "# Loop through main folders and their subfolders\n",
        "for main_folder, subfolders in main_folders.items():\n",
        "    if subfolders:\n",
        "        for subfolder in subfolders:\n",
        "            folder_path = os.path.join(base_dir, main_folder, subfolder)\n",
        "            if os.path.exists(folder_path):\n",
        "                # Extract features from the current subfolder\n",
        "                features = read_and_extract_features(folder_path)\n",
        "                features_by_folder[f\"{main_folder}/{subfolder}\"] = features\n",
        "                print(f\"Extracted HOG features from {len(features)} images in '{main_folder}/{subfolder}'\")\n",
        "    else:\n",
        "        folder_path = os.path.join(base_dir, main_folder)\n",
        "        if os.path.exists(folder_path):\n",
        "            # Extract features from the main folder if there are no subfolders\n",
        "            features = read_and_extract_features(folder_path)\n",
        "            features_by_folder[main_folder] = features\n",
        "            print(f\"Extracted HOG features from {len(features)} images in '{main_folder}'\")\n",
        "\n",
        "# Now 'features_by_folder' contains HOG features from all specified folders and subfolders\n"
      ],
      "metadata": {
        "id": "KazYhTVqBaFA"
      },
      "execution_count": 19,
      "outputs": []
    },
    {
      "cell_type": "code",
      "source": [
        "import os\n",
        "from skimage.feature import hog\n",
        "from skimage.io import imread\n",
        "from skimage.transform import resize\n",
        "import numpy as np\n",
        "\n",
        "# Dictionary to store features by folder\n",
        "features_by_folder = {}\n",
        "\n",
        "# Function to read images and extract HOG features\n",
        "def read_and_extract_features(folder_path, image_size=(128, 128)):\n",
        "    features = []\n",
        "    for root, _, files in os.walk(folder_path):\n",
        "        for file in files:\n",
        "            if file.endswith(('.jpg', '.jpeg', '.png')):  # Add other extensions if needed\n",
        "                image_path = os.path.join(root, file)\n",
        "                image = imread(image_path, as_gray=True)  # Read image in grayscale\n",
        "                image_resized = resize(image, image_size)  # Resize image\n",
        "                hog_features = hog(image_resized, pixels_per_cell=(8, 8),\n",
        "                                   cells_per_block=(2, 2), block_norm='L2-Hys')  # Extract HOG\n",
        "                features.append(hog_features)\n",
        "    return features\n",
        "\n",
        "# Base directory for the dataset\n",
        "base_dir = '/content/drive/My Drive/Ocular Dataset'\n",
        "\n",
        "# Main folders with their subfolders\n",
        "main_folders = {\n",
        "    \"Cataract\": [\"Cataract_low\", \"Cataract_medium\", \"Cataract_high\"],\n",
        "    \"Diabetic Retinopathy\": [\"Diabetic Retinopathy_low\", \"Diabetic Retinopathy_medium\", \"Diabetic Retinopathy_high\"],\n",
        "    \"Normal\": [],  # No subfolders for Normal\n",
        "    \"Glaucoma\": [\"Glaucoma_low\", \"Glaucoma_medium\", \"Glaucoma_high\"],\n",
        "}\n",
        "\n",
        "# Loop through main folders and their subfolders\n",
        "for main_folder, subfolders in main_folders.items():\n",
        "    if subfolders:\n",
        "        for subfolder in subfolders:\n",
        "            folder_path = os.path.join(base_dir, main_folder, subfolder)\n",
        "            if os.path.exists(folder_path):\n",
        "                # Extract features from the current subfolder\n",
        "                features = read_and_extract_features(folder_path)\n",
        "                features_by_folder[f\"{main_folder}/{subfolder}\"] = features\n",
        "                print(f\"Extracted HOG features from {len(features)} images in '{main_folder}/{subfolder}'\")\n",
        "    else:\n",
        "        folder_path = os.path.join(base_dir, main_folder)\n",
        "        if os.path.exists(folder_path):\n",
        "            # Extract features from the main folder if there are no subfolders\n",
        "            features = read_and_extract_features(folder_path)\n",
        "            features_by_folder[main_folder] = features\n",
        "            print(f\"Extracted HOG features from {len(features)} images in '{main_folder}'\")\n",
        "\n",
        "# Now 'features_by_folder' contains HOG features from all specified folders and subfolders\n"
      ],
      "metadata": {
        "id": "2rKB7IKQGeJM"
      },
      "execution_count": 20,
      "outputs": []
    },
    {
      "cell_type": "code",
      "source": [
        "import tensorflow as tf\n",
        "from tensorflow import keras\n",
        "from tensorflow.keras import layers, models\n",
        "from tensorflow.keras.applications import EfficientNetB0\n",
        "from tensorflow.keras.preprocessing.image import ImageDataGenerator\n",
        "import os\n",
        "\n",
        "# Temporary base directory for the dataset\n",
        "temp_base_dir = '/content/drive/My Drive/Ocular Dataset/temp'\n",
        "\n",
        "# Data generator with data augmentation and validation split\n",
        "datagen = ImageDataGenerator(rescale=1./255, validation_split=0.2)\n",
        "\n",
        "# Training dataset from specified subfolders\n",
        "train_generator = datagen.flow_from_directory(\n",
        "    temp_base_dir,\n",
        "    target_size=(224, 224),  # EfficientNetB0 input size (224x224)\n",
        "    batch_size=32,\n",
        "    class_mode='categorical',\n",
        "    subset='training'\n",
        ")\n",
        "\n",
        "# Validation dataset from specified subfolders\n",
        "val_generator = datagen.flow_from_directory(\n",
        "    temp_base_dir,\n",
        "    target_size=(224, 224),  # EfficientNetB0 input size (224x224)\n",
        "    batch_size=32,\n",
        "    class_mode='categorical',\n",
        "    subset='validation'\n",
        ")\n",
        "\n",
        "# Load the pre-trained EfficientNetB0 model without the top layers (for transfer learning)\n",
        "base_model = EfficientNetB0(weights='imagenet', include_top=False, input_shape=(224, 224, 3))\n",
        "\n",
        "# Add custom top layers for our specific problem\n",
        "x = base_model.output\n",
        "x = layers.GlobalAveragePooling2D()(x)  # Global Average Pooling\n",
        "x = layers.Dense(1024, activation='relu')(x)  # Fully connected layer\n",
        "x = layers.Dropout(0.5)(x)  # Dropout for regularization\n",
        "x = layers.Dense(512, activation='relu')(x)  # Another fully connected layer\n",
        "x = layers.Dropout(0.5)(x)  # Dropout for regularization\n",
        "output = layers.Dense(train_generator.num_classes, activation='softmax')(x)  # Output layer for classification\n",
        "\n",
        "# Create the final model\n",
        "model = models.Model(inputs=base_model.input, outputs=output)\n",
        "\n",
        "# Freeze the EfficientNet layers (they won't be trained)\n",
        "for layer in base_model.layers:\n",
        "    layer.trainable = False\n",
        "\n",
        "# Compile the model\n",
        "model.compile(optimizer='adam', loss='categorical_crossentropy', metrics=['accuracy'])\n",
        "\n",
        "# Train the model\n",
        "model.fit(\n",
        "    train_generator,\n",
        "    epochs=5,\n",
        "    validation_data=val_generator\n",
        ")\n",
        "\n",
        "# Evaluate the model\n",
        "loss, accuracy = model.evaluate(val_generator)\n",
        "print(f\"Validation accuracy: {accuracy:.2f}\")\n"
      ],
      "metadata": {
        "colab": {
          "base_uri": "https://localhost:8080/"
        },
        "id": "FONPhOR0KbBf",
        "outputId": "95649bbb-6207-46d2-eda4-8ae08d1d911e"
      },
      "execution_count": 21,
      "outputs": [
        {
          "output_type": "stream",
          "name": "stdout",
          "text": [
            "Found 675 images belonging to 4 classes.\n",
            "Found 166 images belonging to 4 classes.\n",
            "Downloading data from https://storage.googleapis.com/keras-applications/efficientnetb0_notop.h5\n",
            "\u001b[1m16705208/16705208\u001b[0m \u001b[32m━━━━━━━━━━━━━━━━━━━━\u001b[0m\u001b[37m\u001b[0m \u001b[1m1s\u001b[0m 0us/step\n",
            "Epoch 1/5\n"
          ]
        },
        {
          "output_type": "stream",
          "name": "stderr",
          "text": [
            "/usr/local/lib/python3.10/dist-packages/keras/src/trainers/data_adapters/py_dataset_adapter.py:122: UserWarning: Your `PyDataset` class should call `super().__init__(**kwargs)` in its constructor. `**kwargs` can include `workers`, `use_multiprocessing`, `max_queue_size`. Do not pass these arguments to `fit()`, as they will be ignored.\n",
            "  self._warn_if_super_not_called()\n"
          ]
        },
        {
          "output_type": "stream",
          "name": "stdout",
          "text": [
            "\u001b[1m22/22\u001b[0m \u001b[32m━━━━━━━━━━━━━━━━━━━━\u001b[0m\u001b[37m\u001b[0m \u001b[1m79s\u001b[0m 3s/step - accuracy: 0.2418 - loss: 1.4142 - val_accuracy: 0.2530 - val_loss: 1.3938\n",
            "Epoch 2/5\n",
            "\u001b[1m22/22\u001b[0m \u001b[32m━━━━━━━━━━━━━━━━━━━━\u001b[0m\u001b[37m\u001b[0m \u001b[1m62s\u001b[0m 3s/step - accuracy: 0.2221 - loss: 1.4173 - val_accuracy: 0.2530 - val_loss: 1.3913\n",
            "Epoch 3/5\n",
            "\u001b[1m22/22\u001b[0m \u001b[32m━━━━━━━━━━━━━━━━━━━━\u001b[0m\u001b[37m\u001b[0m \u001b[1m84s\u001b[0m 3s/step - accuracy: 0.2907 - loss: 1.3988 - val_accuracy: 0.2590 - val_loss: 1.3983\n",
            "Epoch 4/5\n",
            "\u001b[1m22/22\u001b[0m \u001b[32m━━━━━━━━━━━━━━━━━━━━\u001b[0m\u001b[37m\u001b[0m \u001b[1m90s\u001b[0m 3s/step - accuracy: 0.2668 - loss: 1.4215 - val_accuracy: 0.2410 - val_loss: 1.3886\n",
            "Epoch 5/5\n",
            "\u001b[1m22/22\u001b[0m \u001b[32m━━━━━━━━━━━━━━━━━━━━\u001b[0m\u001b[37m\u001b[0m \u001b[1m74s\u001b[0m 3s/step - accuracy: 0.2186 - loss: 1.4027 - val_accuracy: 0.2590 - val_loss: 1.3874\n",
            "\u001b[1m6/6\u001b[0m \u001b[32m━━━━━━━━━━━━━━━━━━━━\u001b[0m\u001b[37m\u001b[0m \u001b[1m13s\u001b[0m 2s/step - accuracy: 0.2828 - loss: 1.3850\n",
            "Validation accuracy: 0.26\n"
          ]
        }
      ]
    },
    {
      "cell_type": "code",
      "source": [
        "# Unfreeze the top layers of EfficientNetB0\n",
        "for layer in base_model.layers[-10:]:  # Unfreeze the last 10 layers\n",
        "    layer.trainable = True\n",
        "\n",
        "# Recompile the model to reflect the changes\n",
        "model.compile(optimizer=tf.keras.optimizers.Adam(learning_rate=1e-5), loss='categorical_crossentropy', metrics=['accuracy'])\n",
        "\n",
        "# Train again\n",
        "model.fit(\n",
        "    train_generator,\n",
        "    epochs=5,\n",
        "    validation_data=val_generator\n",
        ")\n"
      ],
      "metadata": {
        "colab": {
          "base_uri": "https://localhost:8080/"
        },
        "id": "-pFFvHSbLjS8",
        "outputId": "3a7c9c1a-8bda-43b6-8594-efbce9b7f962"
      },
      "execution_count": 22,
      "outputs": [
        {
          "output_type": "stream",
          "name": "stdout",
          "text": [
            "Epoch 1/5\n",
            "\u001b[1m22/22\u001b[0m \u001b[32m━━━━━━━━━━━━━━━━━━━━\u001b[0m\u001b[37m\u001b[0m \u001b[1m84s\u001b[0m 3s/step - accuracy: 0.2480 - loss: 2.2602 - val_accuracy: 0.2590 - val_loss: 1.3878\n",
            "Epoch 2/5\n",
            "\u001b[1m22/22\u001b[0m \u001b[32m━━━━━━━━━━━━━━━━━━━━\u001b[0m\u001b[37m\u001b[0m \u001b[1m78s\u001b[0m 3s/step - accuracy: 0.2741 - loss: 1.9993 - val_accuracy: 0.2590 - val_loss: 1.3882\n",
            "Epoch 3/5\n",
            "\u001b[1m22/22\u001b[0m \u001b[32m━━━━━━━━━━━━━━━━━━━━\u001b[0m\u001b[37m\u001b[0m \u001b[1m67s\u001b[0m 3s/step - accuracy: 0.2564 - loss: 1.9358 - val_accuracy: 0.2590 - val_loss: 1.3884\n",
            "Epoch 4/5\n",
            "\u001b[1m22/22\u001b[0m \u001b[32m━━━━━━━━━━━━━━━━━━━━\u001b[0m\u001b[37m\u001b[0m \u001b[1m90s\u001b[0m 3s/step - accuracy: 0.2842 - loss: 1.7228 - val_accuracy: 0.2590 - val_loss: 1.3885\n",
            "Epoch 5/5\n",
            "\u001b[1m22/22\u001b[0m \u001b[32m━━━━━━━━━━━━━━━━━━━━\u001b[0m\u001b[37m\u001b[0m \u001b[1m83s\u001b[0m 3s/step - accuracy: 0.2531 - loss: 1.8306 - val_accuracy: 0.2590 - val_loss: 1.3885\n"
          ]
        },
        {
          "output_type": "execute_result",
          "data": {
            "text/plain": [
              "<keras.src.callbacks.history.History at 0x7c2d8ada1210>"
            ]
          },
          "metadata": {},
          "execution_count": 22
        }
      ]
    },
    {
      "cell_type": "code",
      "source": [
        "# Define a learning rate scheduler\n",
        "lr_scheduler = tf.keras.callbacks.LearningRateScheduler(\n",
        "    lambda epoch: 1e-3 * 0.95**epoch, verbose=1\n",
        ")\n",
        "\n",
        "# Train with learning rate scheduler\n",
        "model.fit(\n",
        "    train_generator,\n",
        "    epochs=10,\n",
        "    validation_data=val_generator,\n",
        "    callbacks=[lr_scheduler]\n",
        ")\n"
      ],
      "metadata": {
        "colab": {
          "base_uri": "https://localhost:8080/"
        },
        "id": "mv0AAEGJObvS",
        "outputId": "f7b84b5d-2f1e-4151-df37-3c5484be725b"
      },
      "execution_count": 23,
      "outputs": [
        {
          "output_type": "stream",
          "name": "stdout",
          "text": [
            "\n",
            "Epoch 1: LearningRateScheduler setting learning rate to 0.001.\n",
            "Epoch 1/10\n",
            "\u001b[1m22/22\u001b[0m \u001b[32m━━━━━━━━━━━━━━━━━━━━\u001b[0m\u001b[37m\u001b[0m \u001b[1m79s\u001b[0m 4s/step - accuracy: 0.2615 - loss: 1.5265 - val_accuracy: 0.2590 - val_loss: 1.3903 - learning_rate: 0.0010\n",
            "\n",
            "Epoch 2: LearningRateScheduler setting learning rate to 0.00095.\n",
            "Epoch 2/10\n",
            "\u001b[1m22/22\u001b[0m \u001b[32m━━━━━━━━━━━━━━━━━━━━\u001b[0m\u001b[37m\u001b[0m \u001b[1m76s\u001b[0m 3s/step - accuracy: 0.2663 - loss: 1.4326 - val_accuracy: 0.2590 - val_loss: 1.3890 - learning_rate: 9.5000e-04\n",
            "\n",
            "Epoch 3: LearningRateScheduler setting learning rate to 0.0009025.\n",
            "Epoch 3/10\n",
            "\u001b[1m22/22\u001b[0m \u001b[32m━━━━━━━━━━━━━━━━━━━━\u001b[0m\u001b[37m\u001b[0m \u001b[1m74s\u001b[0m 3s/step - accuracy: 0.2592 - loss: 1.4165 - val_accuracy: 0.2590 - val_loss: 1.3870 - learning_rate: 9.0250e-04\n",
            "\n",
            "Epoch 4: LearningRateScheduler setting learning rate to 0.000857375.\n",
            "Epoch 4/10\n",
            "\u001b[1m22/22\u001b[0m \u001b[32m━━━━━━━━━━━━━━━━━━━━\u001b[0m\u001b[37m\u001b[0m \u001b[1m80s\u001b[0m 3s/step - accuracy: 0.2477 - loss: 1.4141 - val_accuracy: 0.2590 - val_loss: 1.3864 - learning_rate: 8.5737e-04\n",
            "\n",
            "Epoch 5: LearningRateScheduler setting learning rate to 0.0008145062499999999.\n",
            "Epoch 5/10\n",
            "\u001b[1m22/22\u001b[0m \u001b[32m━━━━━━━━━━━━━━━━━━━━\u001b[0m\u001b[37m\u001b[0m \u001b[1m83s\u001b[0m 3s/step - accuracy: 0.2478 - loss: 1.4120 - val_accuracy: 0.2470 - val_loss: 1.3863 - learning_rate: 8.1451e-04\n",
            "\n",
            "Epoch 6: LearningRateScheduler setting learning rate to 0.0007737809374999998.\n",
            "Epoch 6/10\n",
            "\u001b[1m22/22\u001b[0m \u001b[32m━━━━━━━━━━━━━━━━━━━━\u001b[0m\u001b[37m\u001b[0m \u001b[1m67s\u001b[0m 3s/step - accuracy: 0.2647 - loss: 1.3908 - val_accuracy: 0.2470 - val_loss: 1.3874 - learning_rate: 7.7378e-04\n",
            "\n",
            "Epoch 7: LearningRateScheduler setting learning rate to 0.0007350918906249999.\n",
            "Epoch 7/10\n",
            "\u001b[1m22/22\u001b[0m \u001b[32m━━━━━━━━━━━━━━━━━━━━\u001b[0m\u001b[37m\u001b[0m \u001b[1m68s\u001b[0m 3s/step - accuracy: 0.2433 - loss: 1.4026 - val_accuracy: 0.2410 - val_loss: 1.3882 - learning_rate: 7.3509e-04\n",
            "\n",
            "Epoch 8: LearningRateScheduler setting learning rate to 0.0006983372960937497.\n",
            "Epoch 8/10\n",
            "\u001b[1m22/22\u001b[0m \u001b[32m━━━━━━━━━━━━━━━━━━━━\u001b[0m\u001b[37m\u001b[0m \u001b[1m69s\u001b[0m 3s/step - accuracy: 0.2442 - loss: 1.3951 - val_accuracy: 0.2530 - val_loss: 1.3863 - learning_rate: 6.9834e-04\n",
            "\n",
            "Epoch 9: LearningRateScheduler setting learning rate to 0.0006634204312890623.\n",
            "Epoch 9/10\n",
            "\u001b[1m22/22\u001b[0m \u001b[32m━━━━━━━━━━━━━━━━━━━━\u001b[0m\u001b[37m\u001b[0m \u001b[1m68s\u001b[0m 3s/step - accuracy: 0.3062 - loss: 1.3814 - val_accuracy: 0.2470 - val_loss: 1.3875 - learning_rate: 6.6342e-04\n",
            "\n",
            "Epoch 10: LearningRateScheduler setting learning rate to 0.0006302494097246091.\n",
            "Epoch 10/10\n",
            "\u001b[1m22/22\u001b[0m \u001b[32m━━━━━━━━━━━━━━━━━━━━\u001b[0m\u001b[37m\u001b[0m \u001b[1m77s\u001b[0m 4s/step - accuracy: 0.2124 - loss: 1.4058 - val_accuracy: 0.2470 - val_loss: 1.3865 - learning_rate: 6.3025e-04\n"
          ]
        },
        {
          "output_type": "execute_result",
          "data": {
            "text/plain": [
              "<keras.src.callbacks.history.History at 0x7c2d6ac0fd60>"
            ]
          },
          "metadata": {},
          "execution_count": 23
        }
      ]
    },
    {
      "cell_type": "code",
      "source": [
        "datagen = ImageDataGenerator(\n",
        "    rescale=1./255,\n",
        "    validation_split=0.2,\n",
        "    rotation_range=20,\n",
        "    horizontal_flip=True,\n",
        "    zoom_range=0.2,            # Random zoom\n",
        "    width_shift_range=0.2,     # Random horizontal shift\n",
        "    height_shift_range=0.2,    # Random vertical shift\n",
        "    shear_range=0.2,           # Random shear transformation\n",
        "    fill_mode='nearest'        # Fill in missing pixels after transformations\n",
        ")\n"
      ],
      "metadata": {
        "id": "B6mMj4yvQOQw"
      },
      "execution_count": 24,
      "outputs": []
    },
    {
      "cell_type": "code",
      "source": [
        "# Add more capacity to the model\n",
        "x = base_model.output\n",
        "x = layers.GlobalAveragePooling2D()(x)\n",
        "x = layers.Dense(512, activation='relu')(x)  # Increase neurons\n",
        "x = layers.Dropout(0.5)(x)\n",
        "output = layers.Dense(train_generator.num_classes, activation='softmax')(x)\n"
      ],
      "metadata": {
        "id": "tNi3DR52TNFg"
      },
      "execution_count": 25,
      "outputs": []
    },
    {
      "cell_type": "code",
      "source": [
        "# Use RMSprop optimizer\n",
        "model.compile(optimizer='rmsprop', loss='categorical_crossentropy', metrics=['accuracy'])\n",
        "\n",
        "# Train the model\n",
        "model.fit(\n",
        "    train_generator,\n",
        "    epochs=10,\n",
        "    validation_data=val_generator\n",
        ")\n"
      ],
      "metadata": {
        "colab": {
          "base_uri": "https://localhost:8080/"
        },
        "id": "J278LyiSTPE7",
        "outputId": "fe2c85a5-d1f0-442a-c0af-610850ba451e"
      },
      "execution_count": 26,
      "outputs": [
        {
          "output_type": "stream",
          "name": "stdout",
          "text": [
            "Epoch 1/10\n",
            "\u001b[1m22/22\u001b[0m \u001b[32m━━━━━━━━━━━━━━━━━━━━\u001b[0m\u001b[37m\u001b[0m \u001b[1m91s\u001b[0m 3s/step - accuracy: 0.2269 - loss: 1.4155 - val_accuracy: 0.2530 - val_loss: 1.3937\n",
            "Epoch 2/10\n",
            "\u001b[1m22/22\u001b[0m \u001b[32m━━━━━━━━━━━━━━━━━━━━\u001b[0m\u001b[37m\u001b[0m \u001b[1m82s\u001b[0m 3s/step - accuracy: 0.2722 - loss: 1.3896 - val_accuracy: 0.2590 - val_loss: 1.3908\n",
            "Epoch 3/10\n",
            "\u001b[1m22/22\u001b[0m \u001b[32m━━━━━━━━━━━━━━━━━━━━\u001b[0m\u001b[37m\u001b[0m \u001b[1m78s\u001b[0m 4s/step - accuracy: 0.2171 - loss: 1.4069 - val_accuracy: 0.2590 - val_loss: 1.4155\n",
            "Epoch 4/10\n",
            "\u001b[1m22/22\u001b[0m \u001b[32m━━━━━━━━━━━━━━━━━━━━\u001b[0m\u001b[37m\u001b[0m \u001b[1m70s\u001b[0m 3s/step - accuracy: 0.2977 - loss: 1.4037 - val_accuracy: 0.2530 - val_loss: 1.4028\n",
            "Epoch 5/10\n",
            "\u001b[1m22/22\u001b[0m \u001b[32m━━━━━━━━━━━━━━━━━━━━\u001b[0m\u001b[37m\u001b[0m \u001b[1m83s\u001b[0m 3s/step - accuracy: 0.2720 - loss: 1.4099 - val_accuracy: 0.2590 - val_loss: 1.4003\n",
            "Epoch 6/10\n",
            "\u001b[1m22/22\u001b[0m \u001b[32m━━━━━━━━━━━━━━━━━━━━\u001b[0m\u001b[37m\u001b[0m \u001b[1m90s\u001b[0m 3s/step - accuracy: 0.2431 - loss: 1.4037 - val_accuracy: 0.2590 - val_loss: 1.5272\n",
            "Epoch 7/10\n",
            "\u001b[1m22/22\u001b[0m \u001b[32m━━━━━━━━━━━━━━━━━━━━\u001b[0m\u001b[37m\u001b[0m \u001b[1m75s\u001b[0m 3s/step - accuracy: 0.2453 - loss: 1.4087 - val_accuracy: 0.2530 - val_loss: 1.3908\n",
            "Epoch 8/10\n",
            "\u001b[1m22/22\u001b[0m \u001b[32m━━━━━━━━━━━━━━━━━━━━\u001b[0m\u001b[37m\u001b[0m \u001b[1m66s\u001b[0m 3s/step - accuracy: 0.2482 - loss: 1.3909 - val_accuracy: 0.2530 - val_loss: 1.4135\n",
            "Epoch 9/10\n",
            "\u001b[1m22/22\u001b[0m \u001b[32m━━━━━━━━━━━━━━━━━━━━\u001b[0m\u001b[37m\u001b[0m \u001b[1m83s\u001b[0m 3s/step - accuracy: 0.2634 - loss: 1.4033 - val_accuracy: 0.2410 - val_loss: 1.3995\n",
            "Epoch 10/10\n",
            "\u001b[1m22/22\u001b[0m \u001b[32m━━━━━━━━━━━━━━━━━━━━\u001b[0m\u001b[37m\u001b[0m \u001b[1m91s\u001b[0m 4s/step - accuracy: 0.2606 - loss: 1.3971 - val_accuracy: 0.2410 - val_loss: 1.3934\n"
          ]
        },
        {
          "output_type": "execute_result",
          "data": {
            "text/plain": [
              "<keras.src.callbacks.history.History at 0x7c2d856eec80>"
            ]
          },
          "metadata": {},
          "execution_count": 26
        }
      ]
    },
    {
      "cell_type": "code",
      "source": [
        "# Train for more epochs (e.g., 20 or 50)\n",
        "model.fit(\n",
        "    train_generator,\n",
        "    epochs=20,\n",
        "    validation_data=val_generator\n",
        ")\n",
        "x = base_model.output\n",
        "x = layers.GlobalAveragePooling2D()(x)\n",
        "x = layers.Dense(256, activation='relu')(x)\n",
        "x = layers.BatchNormalization()(x)  # Add Batch Normalization\n",
        "x = layers.Dropout(0.5)(x)\n",
        "output = layers.Dense(train_generator.num_classes, activation='softmax')(x)\n",
        "from tensorflow.keras.callbacks import EarlyStopping\n",
        "\n",
        "# Early stopping callback to prevent overfitting\n",
        "early_stopping = EarlyStopping(monitor='val_loss', patience=5, restore_best_weights=True)\n",
        "\n",
        "# Train with early stopping\n",
        "model.fit(\n",
        "    train_generator,\n",
        "    epochs=20,\n",
        "    validation_data=val_generator,\n",
        "    callbacks=[early_stopping]\n",
        ")\n"
      ],
      "metadata": {
        "colab": {
          "base_uri": "https://localhost:8080/"
        },
        "id": "znugqghGTSUn",
        "outputId": "149ee807-639e-4fb4-ca19-41ca75a103f4"
      },
      "execution_count": 27,
      "outputs": [
        {
          "output_type": "stream",
          "name": "stdout",
          "text": [
            "Epoch 1/20\n",
            "\u001b[1m22/22\u001b[0m \u001b[32m━━━━━━━━━━━━━━━━━━━━\u001b[0m\u001b[37m\u001b[0m \u001b[1m72s\u001b[0m 3s/step - accuracy: 0.2553 - loss: 1.3930 - val_accuracy: 0.2410 - val_loss: 1.3945\n",
            "Epoch 2/20\n",
            "\u001b[1m22/22\u001b[0m \u001b[32m━━━━━━━━━━━━━━━━━━━━\u001b[0m\u001b[37m\u001b[0m \u001b[1m67s\u001b[0m 3s/step - accuracy: 0.2522 - loss: 1.3985 - val_accuracy: 0.2530 - val_loss: 1.4570\n",
            "Epoch 3/20\n",
            "\u001b[1m22/22\u001b[0m \u001b[32m━━━━━━━━━━━━━━━━━━━━\u001b[0m\u001b[37m\u001b[0m \u001b[1m67s\u001b[0m 3s/step - accuracy: 0.2176 - loss: 1.4077 - val_accuracy: 0.2530 - val_loss: 1.6367\n",
            "Epoch 4/20\n",
            "\u001b[1m22/22\u001b[0m \u001b[32m━━━━━━━━━━━━━━━━━━━━\u001b[0m\u001b[37m\u001b[0m \u001b[1m70s\u001b[0m 3s/step - accuracy: 0.2430 - loss: 1.3918 - val_accuracy: 0.2590 - val_loss: 1.4348\n",
            "Epoch 5/20\n",
            "\u001b[1m22/22\u001b[0m \u001b[32m━━━━━━━━━━━━━━━━━━━━\u001b[0m\u001b[37m\u001b[0m \u001b[1m67s\u001b[0m 3s/step - accuracy: 0.2207 - loss: 1.3992 - val_accuracy: 0.2590 - val_loss: 1.4077\n",
            "Epoch 6/20\n",
            "\u001b[1m22/22\u001b[0m \u001b[32m━━━━━━━━━━━━━━━━━━━━\u001b[0m\u001b[37m\u001b[0m \u001b[1m67s\u001b[0m 3s/step - accuracy: 0.2480 - loss: 1.3951 - val_accuracy: 0.2530 - val_loss: 1.4311\n",
            "Epoch 7/20\n",
            "\u001b[1m22/22\u001b[0m \u001b[32m━━━━━━━━━━━━━━━━━━━━\u001b[0m\u001b[37m\u001b[0m \u001b[1m76s\u001b[0m 3s/step - accuracy: 0.2509 - loss: 1.4025 - val_accuracy: 0.2530 - val_loss: 1.3863\n",
            "Epoch 8/20\n",
            "\u001b[1m22/22\u001b[0m \u001b[32m━━━━━━━━━━━━━━━━━━━━\u001b[0m\u001b[37m\u001b[0m \u001b[1m73s\u001b[0m 3s/step - accuracy: 0.2369 - loss: 1.3945 - val_accuracy: 0.2590 - val_loss: 1.4045\n",
            "Epoch 9/20\n",
            "\u001b[1m22/22\u001b[0m \u001b[32m━━━━━━━━━━━━━━━━━━━━\u001b[0m\u001b[37m\u001b[0m \u001b[1m68s\u001b[0m 3s/step - accuracy: 0.2152 - loss: 1.3936 - val_accuracy: 0.2590 - val_loss: 1.4941\n",
            "Epoch 10/20\n",
            "\u001b[1m22/22\u001b[0m \u001b[32m━━━━━━━━━━━━━━━━━━━━\u001b[0m\u001b[37m\u001b[0m \u001b[1m83s\u001b[0m 3s/step - accuracy: 0.2475 - loss: 1.4003 - val_accuracy: 0.2590 - val_loss: 1.4032\n",
            "Epoch 11/20\n",
            "\u001b[1m22/22\u001b[0m \u001b[32m━━━━━━━━━━━━━━━━━━━━\u001b[0m\u001b[37m\u001b[0m \u001b[1m67s\u001b[0m 3s/step - accuracy: 0.2046 - loss: 1.3993 - val_accuracy: 0.2590 - val_loss: 1.4073\n",
            "Epoch 12/20\n",
            "\u001b[1m22/22\u001b[0m \u001b[32m━━━━━━━━━━━━━━━━━━━━\u001b[0m\u001b[37m\u001b[0m \u001b[1m70s\u001b[0m 3s/step - accuracy: 0.2531 - loss: 1.3946 - val_accuracy: 0.2590 - val_loss: 1.3865\n",
            "Epoch 13/20\n",
            "\u001b[1m22/22\u001b[0m \u001b[32m━━━━━━━━━━━━━━━━━━━━\u001b[0m\u001b[37m\u001b[0m \u001b[1m66s\u001b[0m 3s/step - accuracy: 0.2581 - loss: 1.3938 - val_accuracy: 0.2470 - val_loss: 1.3866\n",
            "Epoch 14/20\n",
            "\u001b[1m22/22\u001b[0m \u001b[32m━━━━━━━━━━━━━━━━━━━━\u001b[0m\u001b[37m\u001b[0m \u001b[1m63s\u001b[0m 3s/step - accuracy: 0.2009 - loss: 1.3933 - val_accuracy: 0.2590 - val_loss: 1.3865\n",
            "Epoch 15/20\n",
            "\u001b[1m22/22\u001b[0m \u001b[32m━━━━━━━━━━━━━━━━━━━━\u001b[0m\u001b[37m\u001b[0m \u001b[1m65s\u001b[0m 3s/step - accuracy: 0.2187 - loss: 1.3933 - val_accuracy: 0.2590 - val_loss: 1.3886\n",
            "Epoch 16/20\n",
            "\u001b[1m22/22\u001b[0m \u001b[32m━━━━━━━━━━━━━━━━━━━━\u001b[0m\u001b[37m\u001b[0m \u001b[1m80s\u001b[0m 3s/step - accuracy: 0.2413 - loss: 1.3942 - val_accuracy: 0.2590 - val_loss: 1.3861\n",
            "Epoch 17/20\n",
            "\u001b[1m22/22\u001b[0m \u001b[32m━━━━━━━━━━━━━━━━━━━━\u001b[0m\u001b[37m\u001b[0m \u001b[1m73s\u001b[0m 3s/step - accuracy: 0.2801 - loss: 1.3858 - val_accuracy: 0.2530 - val_loss: 1.3860\n",
            "Epoch 18/20\n",
            "\u001b[1m22/22\u001b[0m \u001b[32m━━━━━━━━━━━━━━━━━━━━\u001b[0m\u001b[37m\u001b[0m \u001b[1m75s\u001b[0m 3s/step - accuracy: 0.2647 - loss: 1.3891 - val_accuracy: 0.2590 - val_loss: 1.3864\n",
            "Epoch 19/20\n",
            "\u001b[1m22/22\u001b[0m \u001b[32m━━━━━━━━━━━━━━━━━━━━\u001b[0m\u001b[37m\u001b[0m \u001b[1m72s\u001b[0m 3s/step - accuracy: 0.2657 - loss: 1.3842 - val_accuracy: 0.2590 - val_loss: 1.3880\n",
            "Epoch 20/20\n",
            "\u001b[1m22/22\u001b[0m \u001b[32m━━━━━━━━━━━━━━━━━━━━\u001b[0m\u001b[37m\u001b[0m \u001b[1m67s\u001b[0m 3s/step - accuracy: 0.2760 - loss: 1.3926 - val_accuracy: 0.2590 - val_loss: 1.3860\n",
            "Epoch 1/20\n",
            "\u001b[1m22/22\u001b[0m \u001b[32m━━━━━━━━━━━━━━━━━━━━\u001b[0m\u001b[37m\u001b[0m \u001b[1m77s\u001b[0m 3s/step - accuracy: 0.2336 - loss: 1.3913 - val_accuracy: 0.2590 - val_loss: 1.3876\n",
            "Epoch 2/20\n",
            "\u001b[1m22/22\u001b[0m \u001b[32m━━━━━━━━━━━━━━━━━━━━\u001b[0m\u001b[37m\u001b[0m \u001b[1m76s\u001b[0m 3s/step - accuracy: 0.2587 - loss: 1.3890 - val_accuracy: 0.2590 - val_loss: 1.3875\n",
            "Epoch 3/20\n",
            "\u001b[1m22/22\u001b[0m \u001b[32m━━━━━━━━━━━━━━━━━━━━\u001b[0m\u001b[37m\u001b[0m \u001b[1m76s\u001b[0m 3s/step - accuracy: 0.2522 - loss: 1.3890 - val_accuracy: 0.2590 - val_loss: 1.3881\n",
            "Epoch 4/20\n",
            "\u001b[1m22/22\u001b[0m \u001b[32m━━━━━━━━━━━━━━━━━━━━\u001b[0m\u001b[37m\u001b[0m \u001b[1m65s\u001b[0m 3s/step - accuracy: 0.2594 - loss: 1.3899 - val_accuracy: 0.2590 - val_loss: 1.3903\n",
            "Epoch 5/20\n",
            "\u001b[1m22/22\u001b[0m \u001b[32m━━━━━━━━━━━━━━━━━━━━\u001b[0m\u001b[37m\u001b[0m \u001b[1m66s\u001b[0m 3s/step - accuracy: 0.2386 - loss: 1.3891 - val_accuracy: 0.2590 - val_loss: 1.3930\n",
            "Epoch 6/20\n",
            "\u001b[1m22/22\u001b[0m \u001b[32m━━━━━━━━━━━━━━━━━━━━\u001b[0m\u001b[37m\u001b[0m \u001b[1m82s\u001b[0m 3s/step - accuracy: 0.2680 - loss: 1.3867 - val_accuracy: 0.2590 - val_loss: 1.3889\n",
            "Epoch 7/20\n",
            "\u001b[1m22/22\u001b[0m \u001b[32m━━━━━━━━━━━━━━━━━━━━\u001b[0m\u001b[37m\u001b[0m \u001b[1m92s\u001b[0m 3s/step - accuracy: 0.2443 - loss: 1.3876 - val_accuracy: 0.2530 - val_loss: 1.3860\n",
            "Epoch 8/20\n",
            "\u001b[1m22/22\u001b[0m \u001b[32m━━━━━━━━━━━━━━━━━━━━\u001b[0m\u001b[37m\u001b[0m \u001b[1m72s\u001b[0m 3s/step - accuracy: 0.2624 - loss: 1.3875 - val_accuracy: 0.2530 - val_loss: 1.3861\n",
            "Epoch 9/20\n",
            "\u001b[1m22/22\u001b[0m \u001b[32m━━━━━━━━━━━━━━━━━━━━\u001b[0m\u001b[37m\u001b[0m \u001b[1m91s\u001b[0m 3s/step - accuracy: 0.2857 - loss: 1.3866 - val_accuracy: 0.2530 - val_loss: 1.3862\n",
            "Epoch 10/20\n",
            "\u001b[1m22/22\u001b[0m \u001b[32m━━━━━━━━━━━━━━━━━━━━\u001b[0m\u001b[37m\u001b[0m \u001b[1m65s\u001b[0m 3s/step - accuracy: 0.2570 - loss: 1.3887 - val_accuracy: 0.2590 - val_loss: 1.3860\n",
            "Epoch 11/20\n",
            "\u001b[1m22/22\u001b[0m \u001b[32m━━━━━━━━━━━━━━━━━━━━\u001b[0m\u001b[37m\u001b[0m \u001b[1m69s\u001b[0m 3s/step - accuracy: 0.2300 - loss: 1.3919 - val_accuracy: 0.2530 - val_loss: 1.3860\n",
            "Epoch 12/20\n",
            "\u001b[1m22/22\u001b[0m \u001b[32m━━━━━━━━━━━━━━━━━━━━\u001b[0m\u001b[37m\u001b[0m \u001b[1m67s\u001b[0m 3s/step - accuracy: 0.2513 - loss: 1.3862 - val_accuracy: 0.2590 - val_loss: 1.3860\n",
            "Epoch 13/20\n",
            "\u001b[1m22/22\u001b[0m \u001b[32m━━━━━━━━━━━━━━━━━━━━\u001b[0m\u001b[37m\u001b[0m \u001b[1m75s\u001b[0m 3s/step - accuracy: 0.2485 - loss: 1.3861 - val_accuracy: 0.2590 - val_loss: 1.3860\n",
            "Epoch 14/20\n",
            "\u001b[1m22/22\u001b[0m \u001b[32m━━━━━━━━━━━━━━━━━━━━\u001b[0m\u001b[37m\u001b[0m \u001b[1m65s\u001b[0m 3s/step - accuracy: 0.2512 - loss: 1.3889 - val_accuracy: 0.2590 - val_loss: 1.3860\n",
            "Epoch 15/20\n",
            "\u001b[1m22/22\u001b[0m \u001b[32m━━━━━━━━━━━━━━━━━━━━\u001b[0m\u001b[37m\u001b[0m \u001b[1m77s\u001b[0m 4s/step - accuracy: 0.2610 - loss: 1.3864 - val_accuracy: 0.2530 - val_loss: 1.3860\n",
            "Epoch 16/20\n",
            "\u001b[1m22/22\u001b[0m \u001b[32m━━━━━━━━━━━━━━━━━━━━\u001b[0m\u001b[37m\u001b[0m \u001b[1m77s\u001b[0m 4s/step - accuracy: 0.2713 - loss: 1.3829 - val_accuracy: 0.2590 - val_loss: 1.3861\n",
            "Epoch 17/20\n",
            "\u001b[1m22/22\u001b[0m \u001b[32m━━━━━━━━━━━━━━━━━━━━\u001b[0m\u001b[37m\u001b[0m \u001b[1m70s\u001b[0m 3s/step - accuracy: 0.2369 - loss: 1.3891 - val_accuracy: 0.2590 - val_loss: 1.3859\n",
            "Epoch 18/20\n",
            "\u001b[1m22/22\u001b[0m \u001b[32m━━━━━━━━━━━━━━━━━━━━\u001b[0m\u001b[37m\u001b[0m \u001b[1m66s\u001b[0m 3s/step - accuracy: 0.2547 - loss: 1.3876 - val_accuracy: 0.2590 - val_loss: 1.3859\n",
            "Epoch 19/20\n",
            "\u001b[1m22/22\u001b[0m \u001b[32m━━━━━━━━━━━━━━━━━━━━\u001b[0m\u001b[37m\u001b[0m \u001b[1m75s\u001b[0m 3s/step - accuracy: 0.2563 - loss: 1.3855 - val_accuracy: 0.2590 - val_loss: 1.3859\n",
            "Epoch 20/20\n",
            "\u001b[1m22/22\u001b[0m \u001b[32m━━━━━━━━━━━━━━━━━━━━\u001b[0m\u001b[37m\u001b[0m \u001b[1m67s\u001b[0m 3s/step - accuracy: 0.2383 - loss: 1.3874 - val_accuracy: 0.2590 - val_loss: 1.3861\n"
          ]
        },
        {
          "output_type": "execute_result",
          "data": {
            "text/plain": [
              "<keras.src.callbacks.history.History at 0x7c2d6b26eb60>"
            ]
          },
          "metadata": {},
          "execution_count": 27
        }
      ]
    },
    {
      "cell_type": "code",
      "source": [
        "from tensorflow.keras.callbacks import EarlyStopping\n",
        "\n",
        "# Early stopping callback to prevent overfitting\n",
        "early_stopping = EarlyStopping(monitor='val_loss', patience=5, restore_best_weights=True)\n",
        "\n",
        "# Train with early stopping\n",
        "model.fit(\n",
        "    train_generator,\n",
        "    epochs=20,\n",
        "    validation_data=val_generator,\n",
        "    callbacks=[early_stopping]\n",
        ")\n"
      ],
      "metadata": {
        "colab": {
          "base_uri": "https://localhost:8080/"
        },
        "id": "xaonzsQiTeol",
        "outputId": "02f4f52c-2a38-4cbe-d564-22fa7d9b8cba"
      },
      "execution_count": 28,
      "outputs": [
        {
          "output_type": "stream",
          "name": "stdout",
          "text": [
            "Epoch 1/20\n",
            "\u001b[1m22/22\u001b[0m \u001b[32m━━━━━━━━━━━━━━━━━━━━\u001b[0m\u001b[37m\u001b[0m \u001b[1m68s\u001b[0m 3s/step - accuracy: 0.2143 - loss: 1.3919 - val_accuracy: 0.2590 - val_loss: 1.3860\n",
            "Epoch 2/20\n",
            "\u001b[1m22/22\u001b[0m \u001b[32m━━━━━━━━━━━━━━━━━━━━\u001b[0m\u001b[37m\u001b[0m \u001b[1m92s\u001b[0m 4s/step - accuracy: 0.2440 - loss: 1.3895 - val_accuracy: 0.2590 - val_loss: 1.3860\n",
            "Epoch 3/20\n",
            "\u001b[1m22/22\u001b[0m \u001b[32m━━━━━━━━━━━━━━━━━━━━\u001b[0m\u001b[37m\u001b[0m \u001b[1m65s\u001b[0m 3s/step - accuracy: 0.2189 - loss: 1.3887 - val_accuracy: 0.2590 - val_loss: 1.3860\n",
            "Epoch 4/20\n",
            "\u001b[1m22/22\u001b[0m \u001b[32m━━━━━━━━━━━━━━━━━━━━\u001b[0m\u001b[37m\u001b[0m \u001b[1m85s\u001b[0m 3s/step - accuracy: 0.2445 - loss: 1.3911 - val_accuracy: 0.2590 - val_loss: 1.3860\n",
            "Epoch 5/20\n",
            "\u001b[1m22/22\u001b[0m \u001b[32m━━━━━━━━━━━━━━━━━━━━\u001b[0m\u001b[37m\u001b[0m \u001b[1m79s\u001b[0m 3s/step - accuracy: 0.2577 - loss: 1.3866 - val_accuracy: 0.2590 - val_loss: 1.3860\n",
            "Epoch 6/20\n",
            "\u001b[1m22/22\u001b[0m \u001b[32m━━━━━━━━━━━━━━━━━━━━\u001b[0m\u001b[37m\u001b[0m \u001b[1m84s\u001b[0m 3s/step - accuracy: 0.2691 - loss: 1.3897 - val_accuracy: 0.2590 - val_loss: 1.3861\n"
          ]
        },
        {
          "output_type": "execute_result",
          "data": {
            "text/plain": [
              "<keras.src.callbacks.history.History at 0x7c2d840f7fa0>"
            ]
          },
          "metadata": {},
          "execution_count": 28
        }
      ]
    },
    {
      "cell_type": "code",
      "source": [
        "import matplotlib.pyplot as plt\n",
        "import numpy as np\n",
        "\n",
        "# Example data: Replace these values with your model results\n",
        "models = ['EfficientNet', 'ResNet', 'DenseNet', 'VGG']\n",
        "train_accuracy = [0.82, 0.78, 0.84, 0.80]  # Replace with actual train accuracy\n",
        "val_accuracy = [0.79, 0.75, 0.81, 0.77]    # Replace with actual validation accuracy\n",
        "test_accuracy = [0.78, 0.74, 0.80, 0.76]   # Replace with actual test accuracy\n",
        "\n",
        "# Plot bar chart\n",
        "x = np.arange(len(models))  # the label locations\n",
        "width = 0.25  # the width of the bars\n",
        "\n",
        "fig, ax = plt.subplots(figsize=(10, 6))\n",
        "bar1 = ax.bar(x - width, train_accuracy, width, label='Train Accuracy', color='blue')\n",
        "bar2 = ax.bar(x, val_accuracy, width, label='Validation Accuracy', color='green')\n",
        "bar3 = ax.bar(x + width, test_accuracy, width, label='Test Accuracy', color='orange')\n",
        "\n",
        "# Add labels, title, and legend\n",
        "ax.set_xlabel('Models', fontsize=12)\n",
        "ax.set_ylabel('Accuracy', fontsize=12)\n",
        "ax.set_title('Model Accuracy Comparison', fontsize=14)\n",
        "ax.set_xticks(x)\n",
        "ax.set_xticklabels(models, fontsize=10)\n",
        "ax.legend()\n",
        "\n",
        "# Add accuracy values above bars\n",
        "def add_values(bars):\n",
        "    for bar in bars:\n",
        "        height = bar.get_height()\n",
        "        ax.annotate(f'{height:.2f}',\n",
        "                    xy=(bar.get_x() + bar.get_width() / 2, height),\n",
        "                    xytext=(0, 3),  # 3 points vertical offset\n",
        "                    textcoords=\"offset points\",\n",
        "                    ha='center', va='bottom', fontsize=9)\n",
        "\n",
        "add_values(bar1)\n",
        "add_values(bar2)\n",
        "add_values(bar3)\n",
        "\n",
        "# Show the plot\n",
        "plt.tight_layout()\n",
        "plt.show()\n"
      ],
      "metadata": {
        "colab": {
          "base_uri": "https://localhost:8080/",
          "height": 607
        },
        "id": "Msu_ZEQso4_f",
        "outputId": "47f6cc21-61c4-4eb2-c9f2-79e8e4667649"
      },
      "execution_count": 29,
      "outputs": [
        {
          "output_type": "display_data",
          "data": {
            "text/plain": [
              "<Figure size 1000x600 with 1 Axes>"
            ],
            "image/png": "[encoded data removed]"
          },
          "metadata": {}
        }
      ]
    },
    {
      "cell_type": "code",
      "source": [],
      "metadata": {
        "id": "IEOEFBUMsqL6"
      },
      "execution_count": null,
      "outputs": []
    }
  ]
}